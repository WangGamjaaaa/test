{
 "cells": [
  {
   "cell_type": "code",
   "execution_count": 1,
   "id": "4c0f8974",
   "metadata": {},
   "outputs": [],
   "source": [
    "from IPython.core.display import HTML"
   ]
  },
  {
   "cell_type": "code",
   "execution_count": 2,
   "id": "41227dfe",
   "metadata": {},
   "outputs": [
    {
     "data": {
      "text/html": [
       "\n",
       "<style>\n",
       "p{line-height:23px; font-size:15px;}\n",
       "i{font-weight:bold;font-style: normal;}\n",
       "table{float:left; font-size:15px;}\n",
       "td,th{width:50%; padding:10px; text-align:center!important;}\n",
       "li{margin-bottom:14px;}\n",
       "ul, ol{font-size:15px; !important;}\n",
       "</style>\n"
      ],
      "text/plain": [
       "<IPython.core.display.HTML object>"
      ]
     },
     "execution_count": 2,
     "metadata": {},
     "output_type": "execute_result"
    }
   ],
   "source": [
    "# HTML import (스타일시트)\n",
    "HTML(\"\"\"\n",
    "<style>\n",
    "p{line-height:23px; font-size:15px;}\n",
    "i{font-weight:bold;font-style: normal;}\n",
    "table{float:left; font-size:15px;}\n",
    "td,th{width:50%; padding:10px; text-align:center!important;}\n",
    "li{margin-bottom:14px;}\n",
    "ul, ol{font-size:15px; !important;}\n",
    "</style>\n",
    "\"\"\")"
   ]
  },
  {
   "cell_type": "markdown",
   "id": "77b10410",
   "metadata": {},
   "source": [
    "# 목차\n",
    "<hr/>"
   ]
  },
  {
   "cell_type": "markdown",
   "id": "20460ebe",
   "metadata": {},
   "source": [
    "<ol>\n",
    "    <li style = \"margin-bottom:30px; list-style: none;\"><i style = \"font-weight:bold;font-style: normal;\">필요한 모듈 불러오기</i>\n",
    "    <li style = \"margin-bottom:30px; list-style: none;\"><i style = \"font-weight:bold;font-style: normal;\"><span style = \"font-weight:bold;color:#0172d4;\">STEP 1</span> : 파이토치(Pytorch)란?</i>\n",
    "        <ul style = \"margin-top:10px; list-style:none;\">\n",
    "            <li style = \"margin-bottom:3px;\"><span style = \"font-weight:bold;color:#0172d4;\">1. </span> 데이터 준비</li>\n",
    "            <li style = \"margin-bottom:5px;\"><span style = \"font-weight:bold;color:#0172d4;\">2. </span> 데이터 이해</li>\n",
    "            <li style = \"margin-bottom:5px;\"><span style = \"font-weight:bold;color:#0172d4;\">3. </span> train, test 데이터 분리</li>\n",
    "        </ul>\n",
    "    </li>\n",
    "    <li style = \"margin-bottom:30px; list-style: none;\"><i style = \"font-weight:bold;font-style: normal;\"><span style = \"font-weight:bold;color:#0172d4;\">STEP 1</span> : 시계열 데이터 준비</i>\n",
    "        <ul style = \"margin-top:10px; list-style:none;\">\n",
    "            <li style = \"margin-bottom:3px;\"><span style = \"font-weight:bold;color:#0172d4;\">1. </span> 데이터 준비</li>\n",
    "            <li style = \"margin-bottom:5px;\"><span style = \"font-weight:bold;color:#0172d4;\">2. </span> 데이터 이해</li>\n",
    "            <li style = \"margin-bottom:5px;\"><span style = \"font-weight:bold;color:#0172d4;\">3. </span> train, test 데이터 분리</li>\n",
    "        </ul>\n",
    "    </li>\n",
    "    <li style = \"margin-bottom:30px; list-style: none;\"><i style = \"font-weight:bold;font-style: normal;\">회고</i>\n",
    "</ol>"
   ]
  },
  {
   "cell_type": "markdown",
   "id": "df47d60c",
   "metadata": {},
   "source": [
    "<div style = \"height: 50px;\"></div>"
   ]
  },
  {
   "cell_type": "markdown",
   "id": "73623ce1",
   "metadata": {},
   "source": [
    "# 필요한 모듈 불러오기"
   ]
  },
  {
   "cell_type": "code",
   "execution_count": 1,
   "id": "577f17b4",
   "metadata": {},
   "outputs": [],
   "source": [
    "import pandas            as pd\n",
    "import matplotlib.pyplot as plt\n",
    "import numpy             as np\n",
    "import tensorflow        as tf\n",
    "\n",
    "import warnings\n",
    "warnings.simplefilter(\"ignore\")"
   ]
  },
  {
   "cell_type": "markdown",
   "id": "3df08efe",
   "metadata": {},
   "source": [
    "<div style = \"height: 50px;\"><div/>"
   ]
  },
  {
   "cell_type": "markdown",
   "id": "242e23b6",
   "metadata": {},
   "source": [
    "# 참고 링크"
   ]
  },
  {
   "cell_type": "markdown",
   "id": "f9182768",
   "metadata": {},
   "source": [
    "<ul>\n",
    "    <li style = \"margin-bottom:14px;\"><a href = \"\"></a></li>\n",
    "    <li style = \"margin-bottom:14px;\"><a href = \"\"></a></li>\n",
    "    <li style = \"margin-bottom:14px;\"><a href = \"\"></a></li>\n",
    "    <li style = \"margin-bottom:14px;\"><a href = \"\"></a></li>\n",
    "    <li style = \"margin-bottom:14px;\"><a href = \"\"></a></li>\n",
    "</ul>"
   ]
  },
  {
   "cell_type": "markdown",
   "id": "9e6577d8",
   "metadata": {},
   "source": [
    "<div style = \"height: 50px;\"><div/>"
   ]
  },
  {
   "cell_type": "markdown",
   "id": "cfe7a517",
   "metadata": {},
   "source": [
    "# <span style = \"font-weight:bold;color:#0172d4;\">STEP 1</span> : 파이토치(Pytorch)란?"
   ]
  },
  {
   "cell_type": "markdown",
   "id": "1de03a88",
   "metadata": {},
   "source": [
    "딥러닝 프로젝트를 빌드(build)하는 데 도움을 주는 파이썬 프로그램용 라이브러리로 2017년 초에 공개되었습니다. 사용자를 대상으로 해 쉽게 GPU로 인공 신경망 모델을 만들고 학습시키도록 돕습니다."
   ]
  },
  {
   "cell_type": "markdown",
   "id": "36d8050e",
   "metadata": {},
   "source": [
    "> - GPU사용, 자동미분연선을 위한 넘파이(Numpy) 대체\n",
    "> - 최대의 유연성과 속도를 제공하는 딥러닝 연구 플랫폼"
   ]
  },
  {
   "cell_type": "markdown",
   "id": "0e9cc634",
   "metadata": {},
   "source": [
    "파이토치는 코어 데이터 구조인 텐서(Tensor)를 제공하며 텐서는 수학적 연산을 가속화합니다. 이는 넘파이 배열인 Ndarray와 비슷한 다차원 배열이다. 텐서를 포함해 파이토치는 분산 학습을 위한 패키지가 있고 worker는 데이터 불러오기(loading)를 효율적으로 처리 가능합니다.\n",
    "\n",
    "파이토치의 메인이 되는 토치(torch)는 루아 프로그래밍 언어로 되어 있었지만 파이토치는 파이썬으로 작성되어 파이썬스러운 특징을 다수 포함해 \"파이썬스러운\"의 키워드가 등장했다. 파이토치는 주로 페이스북의 인공지능 연구팀 멤버들이 관리하며 파이토치 포럼은 활발히 교류가 일어나고 있다.\n",
    "\n",
    "글 작성에 참고하는 \"Deep Learning with Pytorch\" 도서에서는 방대한 딥러닝 영역이 아니라 실전 문제를 푸는 딥러닝과 새 모델을 소개한다."
   ]
  },
  {
   "cell_type": "markdown",
   "id": "fdcc3ee8",
   "metadata": {},
   "source": [
    "<div style = \"height: 50px;\"><div/>"
   ]
  },
  {
   "cell_type": "markdown",
   "id": "ebae5b1f",
   "metadata": {},
   "source": [
    "## 파이토치의 장점\n",
    "<hr/>"
   ]
  },
  {
   "cell_type": "markdown",
   "id": "2149a9d5",
   "metadata": {},
   "source": [
    "<ol>\n",
    "\t<li style = \"margin-bottom:14px;\">파이토치는 성능을 이유로 대부분 C++과 CUDA 언어로 만들어져 NVIDIA사의 GPU로 병렬처리가 가능하다.</li>\n",
    "\t<li style = \"margin-bottom:14px;\">플라스크(Flask) 웹 서버로 실행될 수 있다.</li>\n",
    "\t<li style = \"margin-bottom:14px;\">이해와 디버깅이 쉬운 직관적이고 간결한 코드로 구성되었다.</li>\n",
    "\t<li style = \"margin-bottom:14px;\">파이썬 라이브러리와 높은 호환성을 가진다.</li>\n",
    "    <li style = \"margin-bottom:14px;\">모델 그래프를 만들 때 고정 상태가 아니므로 데이터에 따라 조절이 가능한 유연성을 띈다.</li>\n",
    "    <li style = \"margin-bottom:14px;\">1번 등을 이유로 학습 및 추론 속도가 빠르고 다루기 쉽다.</li>\n",
    "    <li style = \"margin-bottom:14px;\">파이토치의 텐서는 CPU의 GPU에서 연산이 가능하며 이 연산은 텐서에서 기초적으로 제공되고 정제된다.</li>\n",
    "</ol>"
   ]
  },
  {
   "cell_type": "markdown",
   "id": "1a669c43",
   "metadata": {},
   "source": [
    "<div style = \"height: 25px;\"><div/>"
   ]
  },
  {
   "cell_type": "markdown",
   "id": "8f1afa99",
   "metadata": {},
   "source": [
    "### 단어 해석"
   ]
  },
  {
   "cell_type": "markdown",
   "id": "66a67b4f",
   "metadata": {},
   "source": [
    "- 정제 : torch.autograd\n",
    "- 신경망 코어 모듈 : torch.nn\n",
    "- 완전연결층 : nn.Linear\n",
    "- 합성곱층 : nn.Conv2d\n",
    "- 다용도 기능 : torch.util (데이터를 불러오거나 다루는 핸들링 기능에 사용)\n",
    "- 여러 대 GPU 가용 : torch.nn.DataParallel, torch.distributed\n",
    "- 모델 최적화 : torch.optim"
   ]
  },
  {
   "cell_type": "markdown",
   "id": "6d25ea14",
   "metadata": {},
   "source": [
    "<div style = \"height: 50px;\"><div/>"
   ]
  },
  {
   "cell_type": "markdown",
   "id": "82bef0df",
   "metadata": {},
   "source": [
    "# <span style = \"font-weight:bold;color:#0172d4;\">STEP 2</span> : Lecture 1-1"
   ]
  },
  {
   "cell_type": "markdown",
   "id": "651eecc5",
   "metadata": {},
   "source": [
    "https://github.com/WangGamjaaaa/AIFFEL_Seminar/blob/main/01_pytorch_master/Lecture/1.%20Data%20representation%20with%20tensor.ipynb"
   ]
  },
  {
   "cell_type": "code",
   "execution_count": null,
   "id": "97ee0170",
   "metadata": {},
   "outputs": [],
   "source": []
  },
  {
   "cell_type": "code",
   "execution_count": null,
   "id": "058626b7",
   "metadata": {},
   "outputs": [],
   "source": []
  },
  {
   "cell_type": "markdown",
   "id": "c361f90f",
   "metadata": {},
   "source": [
    "# <span style = \"font-weight:bold;color:#0172d4;\">STEP 1</span> : 들어가며"
   ]
  },
  {
   "cell_type": "markdown",
   "id": "371c5d69",
   "metadata": {},
   "source": [
    "## 1. 조건\n",
    "<hr/>"
   ]
  },
  {
   "cell_type": "markdown",
   "id": "37cb5cc4",
   "metadata": {},
   "source": [
    "### 소제목"
   ]
  },
  {
   "cell_type": "markdown",
   "id": "c6b5ca99",
   "metadata": {},
   "source": [
    "<div style = \"height: 50px;\"></div>"
   ]
  },
  {
   "cell_type": "markdown",
   "id": "cc1efa34",
   "metadata": {},
   "source": [
    "## 회고\n",
    "<hr/>"
   ]
  }
 ],
 "metadata": {
  "kernelspec": {
   "display_name": "Python 3 (ipykernel)",
   "language": "python",
   "name": "python3"
  },
  "language_info": {
   "codemirror_mode": {
    "name": "ipython",
    "version": 3
   },
   "file_extension": ".py",
   "mimetype": "text/x-python",
   "name": "python",
   "nbconvert_exporter": "python",
   "pygments_lexer": "ipython3",
   "version": "3.9.7"
  }
 },
 "nbformat": 4,
 "nbformat_minor": 5
}
